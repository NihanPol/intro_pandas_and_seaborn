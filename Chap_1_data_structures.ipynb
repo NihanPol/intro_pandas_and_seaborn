{
 "cells": [
  {
   "cell_type": "markdown",
   "metadata": {},
   "source": [
    "# Data Structures in Python"
   ]
  },
  {
   "cell_type": "markdown",
   "metadata": {},
   "source": [
    "In this chapter, we will take a quick look at the data structures in Python, both native as well as those offered by NumPy and Pandas.\n",
    "\n",
    "This chapter is not meant to be a comprehensive introduction, but rather a quick memory refresh before we dive into Pandas and dataframes.\n",
    "\n",
    "A more detailed and exhaustive description can be found [here](https://docs.python.org/3/tutorial/datastructures.html)."
   ]
  },
  {
   "cell_type": "markdown",
   "metadata": {},
   "source": [
    "## 1. Tuples"
   ]
  },
  {
   "cell_type": "markdown",
   "metadata": {},
   "source": [
    "- Tuples are an immutable (cannot be changed after definition) data structure in Python.\n",
    "- Defined using round parentheses \"(\" \")\".\n",
    "- Useful for storing permanent records, such as scientific constants (e.g. $\\pi$) or private keys."
   ]
  },
  {
   "cell_type": "code",
   "execution_count": 6,
   "metadata": {},
   "outputs": [
    {
     "name": "stdout",
     "output_type": "stream",
     "text": [
      "The values in the tuple are (1, 2, 3) and its dtype is <class 'tuple'> and first element 1\n"
     ]
    }
   ],
   "source": [
    "#Define a tuple:\n",
    "a_tuple = (1, 2, 3)\n",
    "\n",
    "print(\"The values in the tuple are {} and its dtype is {} and first element {}\".format(a_tuple, \n",
    "                                                                                       type(a_tuple),\n",
    "                                                                                      a_tuple[0]))"
   ]
  },
  {
   "cell_type": "code",
   "execution_count": 7,
   "metadata": {},
   "outputs": [
    {
     "name": "stdout",
     "output_type": "stream",
     "text": [
      "Here's a tuple with heterogeneous dtypes: (13, 33, 'a string!', 3.21)\n"
     ]
    }
   ],
   "source": [
    "#Tuples can contain heterogeneous data\n",
    "het_tuple = (13, 33, \"a string!\", 3.21)\n",
    "\n",
    "print(\"Here's a tuple with heterogeneous dtypes: {}\".format(het_tuple))"
   ]
  },
  {
   "cell_type": "code",
   "execution_count": 8,
   "metadata": {},
   "outputs": [
    {
     "ename": "TypeError",
     "evalue": "'tuple' object does not support item assignment",
     "output_type": "error",
     "traceback": [
      "\u001b[0;31m---------------------------------------------------------------------------\u001b[0m",
      "\u001b[0;31mTypeError\u001b[0m                                 Traceback (most recent call last)",
      "\u001b[0;32m<ipython-input-8-d7ce8d2c11af>\u001b[0m in \u001b[0;36m<module>\u001b[0;34m()\u001b[0m\n\u001b[1;32m      2\u001b[0m \u001b[0;34m\u001b[0m\u001b[0m\n\u001b[1;32m      3\u001b[0m \u001b[0;31m#try to change an element stored in het_tuple above:\u001b[0m\u001b[0;34m\u001b[0m\u001b[0;34m\u001b[0m\u001b[0m\n\u001b[0;32m----> 4\u001b[0;31m \u001b[0mhet_tuple\u001b[0m\u001b[0;34m[\u001b[0m\u001b[0;36m0\u001b[0m\u001b[0;34m]\u001b[0m \u001b[0;34m=\u001b[0m \u001b[0;36m12312434\u001b[0m\u001b[0;34m\u001b[0m\u001b[0m\n\u001b[0m",
      "\u001b[0;31mTypeError\u001b[0m: 'tuple' object does not support item assignment"
     ]
    }
   ],
   "source": [
    "#Tuples are immutable, i.e. the values stored in them cannot be modified:\n",
    "\n",
    "#try to change an element stored in het_tuple above:\n",
    "het_tuple[0] = 12312434"
   ]
  },
  {
   "cell_type": "code",
   "execution_count": 11,
   "metadata": {},
   "outputs": [
    {
     "name": "stdout",
     "output_type": "stream",
     "text": [
      "Here's a nested tuple ((1, 2, 3), (13, 33, 'a string!', 3.21)), and it's individual elements (1, 2, 3) and (13, 33, 'a string!', 3.21)\n"
     ]
    }
   ],
   "source": [
    "#It is possible to have nested tuples:\n",
    "nested_tuple = (a_tuple, het_tuple)\n",
    "\n",
    "print(\"Here's a nested tuple {}, and it's individual elements {} and {}\".format(nested_tuple,\n",
    "                                                                               nested_tuple[0],\n",
    "                                                                               nested_tuple[1]))"
   ]
  },
  {
   "cell_type": "markdown",
   "metadata": {},
   "source": [
    "## 2. Lists"
   ]
  },
  {
   "cell_type": "markdown",
   "metadata": {},
   "source": [
    "Lists are in essence the same as tuples, but the **big** difference is that lists are **mutable**, i.e. their contents can be changed after definition."
   ]
  },
  {
   "cell_type": "code",
   "execution_count": 14,
   "metadata": {},
   "outputs": [
    {
     "name": "stdout",
     "output_type": "stream",
     "text": [
      "This is the original list: [1, 'string', (1, 3, 5), 4.2]\n",
      "This is the list after modification: [10, 'string', (1, 3, 5), 4.2]\n",
      "A nested list: [[1, 3, 5, 6, 7], [10, 'string', (1, 3, 5), 4.2]]\n"
     ]
    }
   ],
   "source": [
    "#Here's how to define a list:\n",
    "a_list = [1, 3, 5, 6, 7]\n",
    "\n",
    "#Can host heterogeneous data:\n",
    "het_list = [1, \"string\", (1, 3, 5), 4.2]\n",
    "\n",
    "#Can be changed after definition:\n",
    "print(\"This is the original list: {}\".format(het_list))\n",
    "het_list[0] = 10\n",
    "print(\"This is the list after modification: {}\".format(het_list))\n",
    "\n",
    "#Can nest lists:\n",
    "nest_list = [a_list, het_list]\n",
    "print(\"A nested list: {}\".format(nest_list))"
   ]
  },
  {
   "cell_type": "markdown",
   "metadata": {},
   "source": [
    "## 3. Sets"
   ]
  },
  {
   "cell_type": "markdown",
   "metadata": {},
   "source": [
    "A set is an unordered collection with no duplicate elements. A \"set\" in Python is the same concept as a \"set\" in mathematics and a lot of set operations are provided in Python."
   ]
  },
  {
   "cell_type": "code",
   "execution_count": 15,
   "metadata": {},
   "outputs": [
    {
     "name": "stdout",
     "output_type": "stream",
     "text": [
      "A set, without any duplicates, though there were some in the definition itself: {'expelliarmus', 'lumos', 'episkey', 'diffindo'}\n"
     ]
    }
   ],
   "source": [
    "a_set = {\"lumos\", \"expelliarmus\", \"diffindo\", \"episkey\", \"lumos\", \"diffindo\"}\n",
    "\n",
    "print(\"A set, without any duplicates, though there were some in the definition itself: {}\".format(a_set))"
   ]
  },
  {
   "cell_type": "code",
   "execution_count": 17,
   "metadata": {},
   "outputs": [
    {
     "ename": "TypeError",
     "evalue": "'set' object does not support indexing",
     "output_type": "error",
     "traceback": [
      "\u001b[0;31m---------------------------------------------------------------------------\u001b[0m",
      "\u001b[0;31mTypeError\u001b[0m                                 Traceback (most recent call last)",
      "\u001b[0;32m<ipython-input-17-681800295ab5>\u001b[0m in \u001b[0;36m<module>\u001b[0;34m()\u001b[0m\n\u001b[1;32m      1\u001b[0m \u001b[0;31m#Since a set is unordered, it does not support indexing:\u001b[0m\u001b[0;34m\u001b[0m\u001b[0;34m\u001b[0m\u001b[0m\n\u001b[0;32m----> 2\u001b[0;31m \u001b[0ma_set\u001b[0m\u001b[0;34m[\u001b[0m\u001b[0;36m0\u001b[0m\u001b[0;34m]\u001b[0m\u001b[0;34m\u001b[0m\u001b[0m\n\u001b[0m",
      "\u001b[0;31mTypeError\u001b[0m: 'set' object does not support indexing"
     ]
    }
   ],
   "source": [
    "#Since a set is unordered, it does not support indexing:\n",
    "a_set[0]"
   ]
  },
  {
   "cell_type": "code",
   "execution_count": 18,
   "metadata": {},
   "outputs": [
    {
     "data": {
      "text/plain": [
       "False"
      ]
     },
     "execution_count": 18,
     "metadata": {},
     "output_type": "execute_result"
    }
   ],
   "source": [
    "#Check membership of set:\n",
    "\"crucio\" in a_set"
   ]
  },
  {
   "cell_type": "code",
   "execution_count": 21,
   "metadata": {},
   "outputs": [
    {
     "name": "stdout",
     "output_type": "stream",
     "text": [
      "In a_set but not another_set: {'episkey', 'expelliarmus'}\n",
      "In a_set or another_set: {'imperio', 'alohomora', 'lumos', 'episkey', 'diffindo', 'sectumsempra', 'expelliarmus'}\n",
      "In a_set and another_set: {'lumos', 'diffindo'}\n",
      "In a_set or another_set, but not both: {'imperio', 'alohomora', 'episkey', 'sectumsempra', 'expelliarmus'}\n"
     ]
    }
   ],
   "source": [
    "#Set operations:\n",
    "another_set = {\"lumos\", \"alohomora\", \"diffindo\", \"sectumsempra\", 'imperio'}\n",
    "\n",
    "print(\"In a_set but not another_set: {}\".format(a_set - another_set))\n",
    "print(\"In a_set or another_set: {}\".format(a_set | another_set)) #| represents the \"OR\" operation\n",
    "print(\"In a_set and another_set: {}\".format(a_set & another_set)) # & represents the \"AND\" operation\n",
    "print(\"In a_set or another_set, but not both: {}\".format(a_set ^ another_set))"
   ]
  },
  {
   "cell_type": "markdown",
   "metadata": {},
   "source": [
    "## 4. Dictionaries"
   ]
  },
  {
   "cell_type": "markdown",
   "metadata": {},
   "source": [
    "A dictionary is a collection of **key:value** pairs that can be accessed using the *keys* rather than the usual indexing approach used for other data types."
   ]
  },
  {
   "cell_type": "code",
   "execution_count": 24,
   "metadata": {},
   "outputs": [
    {
     "name": "stdout",
     "output_type": "stream",
     "text": [
      "{1: 'one', 2: 'two', 'a_list': [1, 3, 5, 6], 'three': 3, 'a_tuple': (3, 2, 1)}\n"
     ]
    }
   ],
   "source": [
    "a_dict = {1: \"one\", 2: \"two\", 'three': 3, \"a_list\": [1, 3, 5, 6], \"a_tuple\": (3, 2, 1)}\n",
    "\n",
    "print(a_dict)"
   ]
  },
  {
   "cell_type": "code",
   "execution_count": 28,
   "metadata": {},
   "outputs": [
    {
     "name": "stdout",
     "output_type": "stream",
     "text": [
      "Keys: dict_keys([1, 2, 'a_list', 'three', 'a_tuple'])\n",
      "Values: dict_values(['one', 'two', [1, 3, 5, 6], 3, (3, 2, 1)])\n"
     ]
    }
   ],
   "source": [
    "#Get all the keys and values from a dictionary:\n",
    "keys = a_dict.keys()\n",
    "vals = a_dict.values()\n",
    "\n",
    "print(\"Keys: {}\".format(keys))\n",
    "print(\"Values: {}\".format(vals))"
   ]
  },
  {
   "cell_type": "markdown",
   "metadata": {},
   "source": [
    "# NumPy arrays"
   ]
  },
  {
   "cell_type": "markdown",
   "metadata": {},
   "source": [
    "So far, we have been dealing mostly with one dimensional data structures. It is possible to introduce higher dimensionality with these data types, but it has the potential to quickly become very convoluted and difficult to understand. Additionally, it doesn't make for very readable code, which is against the philosophy of Python."
   ]
  },
  {
   "cell_type": "markdown",
   "metadata": {},
   "source": [
    "NumPy is a package that provides a nice interface to produce multidimensional arrays (or matrices) and also has a cleaner way of accessing and manipulating them. It also has the additional advantage of being very computationally efficient and thus, is perfect for use in large simulations and calculations. "
   ]
  },
  {
   "cell_type": "markdown",
   "metadata": {},
   "source": [
    "NumPy has extensive functionality that cannot possibly be covered in full here. So we quickly show how to define a numpy array and direct interested readers to the [NumPy homepage](https://numpy.org/)"
   ]
  },
  {
   "cell_type": "code",
   "execution_count": 31,
   "metadata": {},
   "outputs": [
    {
     "name": "stdout",
     "output_type": "stream",
     "text": [
      "Empty array [] and its dtype <class 'numpy.ndarray'>\n"
     ]
    }
   ],
   "source": [
    "#Import numpy\n",
    "import numpy\n",
    "\n",
    "#Define an empty array:\n",
    "array = numpy.array([])\n",
    "\n",
    "print(\"Empty array {} and its dtype {}\".format(array, type(array)))"
   ]
  },
  {
   "cell_type": "code",
   "execution_count": 33,
   "metadata": {},
   "outputs": [
    {
     "name": "stdout",
     "output_type": "stream",
     "text": [
      "Our array is: \n",
      " [[100 100]\n",
      " [100 100]\n",
      " [100 100]]\n"
     ]
    }
   ],
   "source": [
    "#Initialize an array with 3 rows and 2 columns, i.e. shape (3,2) and fill it with 100\n",
    "empty_array = numpy.full((3,2), 100)\n",
    "\n",
    "print(\"Our array is: \\n {}\".format(empty_array))"
   ]
  },
  {
   "cell_type": "markdown",
   "metadata": {},
   "source": [
    "# Dataframes with Pandas"
   ]
  },
  {
   "cell_type": "markdown",
   "metadata": {},
   "source": [
    "Dataframes are a versatile data structure that can contain all of the structures we've seen previously. The best way to visualize a dataframe is to think of it as a table in Excel, with each column being named and each row having an index."
   ]
  },
  {
   "cell_type": "markdown",
   "metadata": {},
   "source": [
    "Here, we will look at how to create a simple dataframe and look at more advanced methods in subsequent notebooks."
   ]
  },
  {
   "cell_type": "code",
   "execution_count": 34,
   "metadata": {},
   "outputs": [],
   "source": [
    "import pandas"
   ]
  },
  {
   "cell_type": "code",
   "execution_count": 35,
   "metadata": {},
   "outputs": [
    {
     "data": {
      "text/html": [
       "<div>\n",
       "<style scoped>\n",
       "    .dataframe tbody tr th:only-of-type {\n",
       "        vertical-align: middle;\n",
       "    }\n",
       "\n",
       "    .dataframe tbody tr th {\n",
       "        vertical-align: top;\n",
       "    }\n",
       "\n",
       "    .dataframe thead th {\n",
       "        text-align: right;\n",
       "    }\n",
       "</style>\n",
       "<table border=\"1\" class=\"dataframe\">\n",
       "  <thead>\n",
       "    <tr style=\"text-align: right;\">\n",
       "      <th></th>\n",
       "      <th>att_1</th>\n",
       "      <th>att_2</th>\n",
       "      <th>att_3</th>\n",
       "    </tr>\n",
       "  </thead>\n",
       "  <tbody>\n",
       "    <tr>\n",
       "      <th>0</th>\n",
       "      <td>100</td>\n",
       "      <td>100</td>\n",
       "      <td>100</td>\n",
       "    </tr>\n",
       "    <tr>\n",
       "      <th>1</th>\n",
       "      <td>100</td>\n",
       "      <td>100</td>\n",
       "      <td>100</td>\n",
       "    </tr>\n",
       "    <tr>\n",
       "      <th>2</th>\n",
       "      <td>100</td>\n",
       "      <td>100</td>\n",
       "      <td>100</td>\n",
       "    </tr>\n",
       "    <tr>\n",
       "      <th>3</th>\n",
       "      <td>100</td>\n",
       "      <td>100</td>\n",
       "      <td>100</td>\n",
       "    </tr>\n",
       "    <tr>\n",
       "      <th>4</th>\n",
       "      <td>100</td>\n",
       "      <td>100</td>\n",
       "      <td>100</td>\n",
       "    </tr>\n",
       "  </tbody>\n",
       "</table>\n",
       "</div>"
      ],
      "text/plain": [
       "   att_1  att_2  att_3\n",
       "0    100    100    100\n",
       "1    100    100    100\n",
       "2    100    100    100\n",
       "3    100    100    100\n",
       "4    100    100    100"
      ]
     },
     "execution_count": 35,
     "metadata": {},
     "output_type": "execute_result"
    }
   ],
   "source": [
    "#Let's define some numeric data to go into our matrix:\n",
    "#Our data will have 5 rows and 3 columns, which we will call att_1, att_2, att_3\n",
    "data = numpy.full((5, 3), 100)\n",
    "\n",
    "#Here we aggregate that data into a dataframe and name the columns\n",
    "dataframe = pandas.DataFrame(data, columns = ['att_1', 'att_2', 'att_3'])\n",
    "\n",
    "dataframe"
   ]
  },
  {
   "cell_type": "code",
   "execution_count": 36,
   "metadata": {},
   "outputs": [
    {
     "data": {
      "text/html": [
       "<div>\n",
       "<style scoped>\n",
       "    .dataframe tbody tr th:only-of-type {\n",
       "        vertical-align: middle;\n",
       "    }\n",
       "\n",
       "    .dataframe tbody tr th {\n",
       "        vertical-align: top;\n",
       "    }\n",
       "\n",
       "    .dataframe thead th {\n",
       "        text-align: right;\n",
       "    }\n",
       "</style>\n",
       "<table border=\"1\" class=\"dataframe\">\n",
       "  <thead>\n",
       "    <tr style=\"text-align: right;\">\n",
       "      <th></th>\n",
       "      <th>att_1</th>\n",
       "      <th>att_2</th>\n",
       "      <th>att_3</th>\n",
       "    </tr>\n",
       "  </thead>\n",
       "  <tbody>\n",
       "    <tr>\n",
       "      <th>0</th>\n",
       "      <td>120</td>\n",
       "      <td>1</td>\n",
       "      <td>0.0000</td>\n",
       "    </tr>\n",
       "    <tr>\n",
       "      <th>1</th>\n",
       "      <td>123</td>\n",
       "      <td>3</td>\n",
       "      <td>0.1000</td>\n",
       "    </tr>\n",
       "    <tr>\n",
       "      <th>2</th>\n",
       "      <td>333</td>\n",
       "      <td>11</td>\n",
       "      <td>0.0001</td>\n",
       "    </tr>\n",
       "    <tr>\n",
       "      <th>3</th>\n",
       "      <td>132</td>\n",
       "      <td>21</td>\n",
       "      <td>0.4000</td>\n",
       "    </tr>\n",
       "  </tbody>\n",
       "</table>\n",
       "</div>"
      ],
      "text/plain": [
       "   att_1  att_2   att_3\n",
       "0    120      1  0.0000\n",
       "1    123      3  0.1000\n",
       "2    333     11  0.0001\n",
       "3    132     21  0.4000"
      ]
     },
     "execution_count": 36,
     "metadata": {},
     "output_type": "execute_result"
    }
   ],
   "source": [
    "#Another, more direct, way to create a dataframe is to use a dictionary:\n",
    "my_dict = {'att_1': [120, 123, 333, 132], 'att_2': [1, 3, 11, 21], 'att_3': [0, 0.1, 0.0001, 0.4]}\n",
    "\n",
    "my_df = pandas.DataFrame(my_dict)\n",
    "\n",
    "my_df"
   ]
  },
  {
   "cell_type": "code",
   "execution_count": null,
   "metadata": {},
   "outputs": [],
   "source": []
  },
  {
   "cell_type": "code",
   "execution_count": null,
   "metadata": {},
   "outputs": [],
   "source": []
  },
  {
   "cell_type": "code",
   "execution_count": null,
   "metadata": {},
   "outputs": [],
   "source": []
  },
  {
   "cell_type": "code",
   "execution_count": null,
   "metadata": {},
   "outputs": [],
   "source": []
  }
 ],
 "metadata": {
  "kernelspec": {
   "display_name": "Python 3",
   "language": "python",
   "name": "python3"
  },
  "language_info": {
   "codemirror_mode": {
    "name": "ipython",
    "version": 3
   },
   "file_extension": ".py",
   "mimetype": "text/x-python",
   "name": "python",
   "nbconvert_exporter": "python",
   "pygments_lexer": "ipython3",
   "version": "3.5.2"
  }
 },
 "nbformat": 4,
 "nbformat_minor": 2
}
