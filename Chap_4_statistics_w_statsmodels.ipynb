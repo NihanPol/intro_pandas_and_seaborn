{
 "cells": [
  {
   "cell_type": "markdown",
   "metadata": {},
   "source": [
    "# Statistics with `statsmodels`"
   ]
  },
  {
   "cell_type": "markdown",
   "metadata": {},
   "source": [
    "The Python package `statsmodels` uses `NumPy` and `SciPy` under the hood to do complex statistics in minimal lines of code. We will explore how to do ordinary least squares (OLS) fitting with `statsmodels` and diagnosing the quality of the fit in this notebook."
   ]
  },
  {
   "cell_type": "code",
   "execution_count": 1,
   "metadata": {},
   "outputs": [
    {
     "name": "stderr",
     "output_type": "stream",
     "text": [
      "/usr/local/lib/python3.5/dist-packages/statsmodels/compat/pandas.py:56: FutureWarning: The pandas.core.datetools module is deprecated and will be removed in a future version. Please use the pandas.tseries module instead.\n",
      "  from pandas.core import datetools\n"
     ]
    }
   ],
   "source": [
    "import numpy, pandas\n",
    "import statsmodels as sms\n",
    "import statsmodels.api as sms_api\n",
    "import matplotlib.pyplot as pl\n",
    "%matplotlib inline"
   ]
  },
  {
   "cell_type": "markdown",
   "metadata": {},
   "source": [
    "## Simplest case"
   ]
  },
  {
   "cell_type": "markdown",
   "metadata": {},
   "source": [
    "Let's look at how OLS fitting works with an example of simulated data"
   ]
  },
  {
   "cell_type": "markdown",
   "metadata": {},
   "source": [
    "Let's look at a model that we know can be defined as: $$ y = 1 + 0.5x + 10x^2 $$"
   ]
  },
  {
   "cell_type": "code",
   "execution_count": 7,
   "metadata": {},
   "outputs": [],
   "source": [
    "#Define number of samples\n",
    "nsamp = 100\n",
    "\n",
    "#Define our independent data, i.e. X\n",
    "x = numpy.linspace(0.1, 10, nsamp)\n",
    "X = numpy.column_stack((x / x, x, x ** 2))\n",
    "\n",
    "#Define our coefficients;\n",
    "beta = numpy.array([1, 0.5, 10])\n",
    "\n",
    "#Let's add some noise:\n",
    "noise = numpy.random.normal(size = nsamp)\n",
    "\n",
    "#Finally, given the above model, let's define our dependent variable, y\n",
    "y = numpy.dot(X, beta) + noise"
   ]
  },
  {
   "cell_type": "code",
   "execution_count": 9,
   "metadata": {},
   "outputs": [
    {
     "name": "stdout",
     "output_type": "stream",
     "text": [
      "                            OLS Regression Results                            \n",
      "==============================================================================\n",
      "Dep. Variable:                      y   R-squared:                       1.000\n",
      "Model:                            OLS   Adj. R-squared:                  1.000\n",
      "Method:                 Least Squares   F-statistic:                 4.226e+06\n",
      "Date:                Mon, 20 Jan 2020   Prob (F-statistic):          2.50e-240\n",
      "Time:                        16:16:17   Log-Likelihood:                -144.24\n",
      "No. Observations:                 100   AIC:                             294.5\n",
      "Df Residuals:                      97   BIC:                             302.3\n",
      "Df Model:                           2                                         \n",
      "Covariance Type:            nonrobust                                         \n",
      "==============================================================================\n",
      "                 coef    std err          t      P>|t|      [0.025      0.975]\n",
      "------------------------------------------------------------------------------\n",
      "const          1.2771      0.318      4.014      0.000       0.646       1.909\n",
      "x1             0.4358      0.145      2.997      0.003       0.147       0.724\n",
      "x2            10.0026      0.014    717.053      0.000       9.975      10.030\n",
      "==============================================================================\n",
      "Omnibus:                        0.986   Durbin-Watson:                   2.235\n",
      "Prob(Omnibus):                  0.611   Jarque-Bera (JB):                1.078\n",
      "Skew:                           0.176   Prob(JB):                        0.583\n",
      "Kurtosis:                       2.633   Cond. No.                         151.\n",
      "==============================================================================\n",
      "\n",
      "Warnings:\n",
      "[1] Standard Errors assume that the covariance matrix of the errors is correctly specified.\n"
     ]
    }
   ],
   "source": [
    "#Define an ordinary least squares (OLS) model object:\n",
    "model = sms_api.OLS(y, X)\n",
    "\n",
    "#Fit:\n",
    "results = model.fit()\n",
    "\n",
    "#Print summary of results:\n",
    "print(results.summary())"
   ]
  },
  {
   "cell_type": "code",
   "execution_count": 12,
   "metadata": {},
   "outputs": [
    {
     "name": "stdout",
     "output_type": "stream",
     "text": [
      "The best-fit parameters are: [  1.27713401   0.43581922  10.00261204]\n",
      "Standard errors: [ 0.31818718  0.14542019  0.0139496 ]\n",
      "$R^2$ is: 0.9999885247435667\n"
     ]
    }
   ],
   "source": [
    "#We can extract the parameters like so:\n",
    "print(\"The best-fit parameters are: {}\".format(results.params))\n",
    "#And errors:\n",
    "print(\"Standard errors: {}\".format(results.bse))\n",
    "\n",
    "#And goodness-of-fit, which in this case is the R-squared metric:\n",
    "print(r\"$R^2$ is: {}\".format(results.rsquared))"
   ]
  },
  {
   "cell_type": "markdown",
   "metadata": {},
   "source": [
    "The cool thing about `statsmodels` is that it also offers a way of defining symbolic formulae in its fitting, similar to the language `R`. This uses the `patsty` python package behind the scenes."
   ]
  },
  {
   "cell_type": "code",
   "execution_count": 13,
   "metadata": {},
   "outputs": [
    {
     "data": {
      "text/html": [
       "<div>\n",
       "<style scoped>\n",
       "    .dataframe tbody tr th:only-of-type {\n",
       "        vertical-align: middle;\n",
       "    }\n",
       "\n",
       "    .dataframe tbody tr th {\n",
       "        vertical-align: top;\n",
       "    }\n",
       "\n",
       "    .dataframe thead th {\n",
       "        text-align: right;\n",
       "    }\n",
       "</style>\n",
       "<table border=\"1\" class=\"dataframe\">\n",
       "  <thead>\n",
       "    <tr style=\"text-align: right;\">\n",
       "      <th></th>\n",
       "      <th>y</th>\n",
       "      <th>const</th>\n",
       "      <th>x</th>\n",
       "      <th>x2</th>\n",
       "    </tr>\n",
       "  </thead>\n",
       "  <tbody>\n",
       "    <tr>\n",
       "      <th>0</th>\n",
       "      <td>0.875512</td>\n",
       "      <td>1.0</td>\n",
       "      <td>0.1</td>\n",
       "      <td>0.01</td>\n",
       "    </tr>\n",
       "    <tr>\n",
       "      <th>1</th>\n",
       "      <td>0.484899</td>\n",
       "      <td>1.0</td>\n",
       "      <td>0.2</td>\n",
       "      <td>0.04</td>\n",
       "    </tr>\n",
       "    <tr>\n",
       "      <th>2</th>\n",
       "      <td>3.328903</td>\n",
       "      <td>1.0</td>\n",
       "      <td>0.3</td>\n",
       "      <td>0.09</td>\n",
       "    </tr>\n",
       "    <tr>\n",
       "      <th>3</th>\n",
       "      <td>1.824917</td>\n",
       "      <td>1.0</td>\n",
       "      <td>0.4</td>\n",
       "      <td>0.16</td>\n",
       "    </tr>\n",
       "    <tr>\n",
       "      <th>4</th>\n",
       "      <td>5.292902</td>\n",
       "      <td>1.0</td>\n",
       "      <td>0.5</td>\n",
       "      <td>0.25</td>\n",
       "    </tr>\n",
       "  </tbody>\n",
       "</table>\n",
       "</div>"
      ],
      "text/plain": [
       "          y  const    x    x2\n",
       "0  0.875512    1.0  0.1  0.01\n",
       "1  0.484899    1.0  0.2  0.04\n",
       "2  3.328903    1.0  0.3  0.09\n",
       "3  1.824917    1.0  0.4  0.16\n",
       "4  5.292902    1.0  0.5  0.25"
      ]
     },
     "execution_count": 13,
     "metadata": {},
     "output_type": "execute_result"
    }
   ],
   "source": [
    "#For this to work, the data needs to be in a dataframe, with the column names representing the \n",
    "#name of the variable:\n",
    "data_array = numpy.column_stack((y, X))\n",
    "data = pandas.DataFrame(data_array, columns = ['y', 'const', 'x', 'x2'])\n",
    "\n",
    "data.head()"
   ]
  },
  {
   "cell_type": "code",
   "execution_count": 17,
   "metadata": {},
   "outputs": [
    {
     "name": "stdout",
     "output_type": "stream",
     "text": [
      "                            OLS Regression Results                            \n",
      "==============================================================================\n",
      "Dep. Variable:                      y   R-squared:                       1.000\n",
      "Model:                            OLS   Adj. R-squared:                  1.000\n",
      "Method:                 Least Squares   F-statistic:                 4.226e+06\n",
      "Date:                Mon, 20 Jan 2020   Prob (F-statistic):          2.50e-240\n",
      "Time:                        16:38:09   Log-Likelihood:                -144.24\n",
      "No. Observations:                 100   AIC:                             294.5\n",
      "Df Residuals:                      97   BIC:                             302.3\n",
      "Df Model:                           2                                         \n",
      "Covariance Type:            nonrobust                                         \n",
      "==============================================================================\n",
      "                 coef    std err          t      P>|t|      [0.025      0.975]\n",
      "------------------------------------------------------------------------------\n",
      "const          1.2771      0.318      4.014      0.000       0.646       1.909\n",
      "x              0.4358      0.145      2.997      0.003       0.147       0.724\n",
      "x2            10.0026      0.014    717.053      0.000       9.975      10.030\n",
      "==============================================================================\n",
      "Omnibus:                        0.986   Durbin-Watson:                   2.235\n",
      "Prob(Omnibus):                  0.611   Jarque-Bera (JB):                1.078\n",
      "Skew:                           0.176   Prob(JB):                        0.583\n",
      "Kurtosis:                       2.633   Cond. No.                         151.\n",
      "==============================================================================\n",
      "\n",
      "Warnings:\n",
      "[1] Standard Errors assume that the covariance matrix of the errors is correctly specified.\n"
     ]
    }
   ],
   "source": [
    "#We need a different module from the package first:\n",
    "import statsmodels.formula.api as smf\n",
    "\n",
    "#Let's use symbolic notation in our fitting this time:\n",
    "\n",
    "model_2 = smf.ols(formula = 'y ~ const + x + x2 - 1', data = data)\n",
    "\n",
    "results = model_2.fit()\n",
    "\n",
    "print(results.summary())"
   ]
  },
  {
   "cell_type": "code",
   "execution_count": null,
   "metadata": {},
   "outputs": [],
   "source": []
  },
  {
   "cell_type": "code",
   "execution_count": null,
   "metadata": {},
   "outputs": [],
   "source": []
  },
  {
   "cell_type": "code",
   "execution_count": null,
   "metadata": {},
   "outputs": [],
   "source": []
  },
  {
   "cell_type": "code",
   "execution_count": null,
   "metadata": {},
   "outputs": [],
   "source": []
  },
  {
   "cell_type": "code",
   "execution_count": null,
   "metadata": {},
   "outputs": [],
   "source": []
  },
  {
   "cell_type": "code",
   "execution_count": null,
   "metadata": {},
   "outputs": [],
   "source": []
  },
  {
   "cell_type": "code",
   "execution_count": null,
   "metadata": {},
   "outputs": [],
   "source": []
  },
  {
   "cell_type": "code",
   "execution_count": null,
   "metadata": {},
   "outputs": [],
   "source": []
  },
  {
   "cell_type": "code",
   "execution_count": null,
   "metadata": {},
   "outputs": [],
   "source": []
  },
  {
   "cell_type": "code",
   "execution_count": null,
   "metadata": {},
   "outputs": [],
   "source": []
  },
  {
   "cell_type": "code",
   "execution_count": null,
   "metadata": {},
   "outputs": [],
   "source": []
  }
 ],
 "metadata": {
  "kernelspec": {
   "display_name": "Python 3",
   "language": "python",
   "name": "python3"
  },
  "language_info": {
   "codemirror_mode": {
    "name": "ipython",
    "version": 3
   },
   "file_extension": ".py",
   "mimetype": "text/x-python",
   "name": "python",
   "nbconvert_exporter": "python",
   "pygments_lexer": "ipython3",
   "version": "3.5.2"
  }
 },
 "nbformat": 4,
 "nbformat_minor": 2
}
