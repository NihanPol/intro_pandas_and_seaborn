{
 "cells": [
  {
   "cell_type": "code",
   "execution_count": 2,
   "metadata": {},
   "outputs": [],
   "source": [
    "import numpy, pandas, seaborn\n",
    "%matplotlib inline"
   ]
  },
  {
   "cell_type": "markdown",
   "metadata": {},
   "source": [
    "# Exercises"
   ]
  },
  {
   "cell_type": "markdown",
   "metadata": {},
   "source": [
    "This notebook consists of different exercises based on the dataset and notebooks provided in this repository. I have written this assuming that you have stepped through the previous notebooks, but I assume we will learn more things as we step through these problems.\n",
    "\n",
    "These problems are not arranged in any particular order, so take your pick:"
   ]
  },
  {
   "cell_type": "markdown",
   "metadata": {},
   "source": [
    "- Let's:\n",
    "    - create new column in our dataset which is the average fare (`fare`) normalized by the distance (`nsmiles`), i.e. norm_fare $ = \\frac{fare}{nsmiles}$\n",
    "    - write code that checks if this normalized fare has increased as a function of time (in years).\n",
    "    - similar to the above, normalize the fare by the number of passengers (`passengers`) and check for evolution over time.\n",
    "    - Fit a model to the data, where the dependent variable is either of the normalized fare and the independent variable is year. Choose your favorite model, or add other independent variables if you want."
   ]
  },
  {
   "cell_type": "markdown",
   "metadata": {},
   "source": [
    "_Solution_:"
   ]
  },
  {
   "cell_type": "code",
   "execution_count": 5,
   "metadata": {},
   "outputs": [
    {
     "data": {
      "text/html": [
       "<div>\n",
       "<style scoped>\n",
       "    .dataframe tbody tr th:only-of-type {\n",
       "        vertical-align: middle;\n",
       "    }\n",
       "\n",
       "    .dataframe tbody tr th {\n",
       "        vertical-align: top;\n",
       "    }\n",
       "\n",
       "    .dataframe thead th {\n",
       "        text-align: right;\n",
       "    }\n",
       "</style>\n",
       "<table border=\"1\" class=\"dataframe\">\n",
       "  <thead>\n",
       "    <tr style=\"text-align: right;\">\n",
       "      <th></th>\n",
       "      <th>Year</th>\n",
       "      <th>quarter</th>\n",
       "      <th>citymarketid_1</th>\n",
       "      <th>citymarketid_2</th>\n",
       "      <th>city1</th>\n",
       "      <th>city2</th>\n",
       "      <th>nsmiles</th>\n",
       "      <th>passengers</th>\n",
       "      <th>fare</th>\n",
       "      <th>carrier_lg</th>\n",
       "      <th>carrier_lg_full_name</th>\n",
       "      <th>large_ms</th>\n",
       "      <th>fare_lg</th>\n",
       "      <th>carrier_low</th>\n",
       "      <th>carrier_low_full_name</th>\n",
       "      <th>lf_ms</th>\n",
       "      <th>fare_low</th>\n",
       "      <th>table_1_flag</th>\n",
       "      <th>Geocoded_City1</th>\n",
       "      <th>Geocoded_City2</th>\n",
       "    </tr>\n",
       "  </thead>\n",
       "  <tbody>\n",
       "    <tr>\n",
       "      <th>0</th>\n",
       "      <td>2004</td>\n",
       "      <td>2</td>\n",
       "      <td>33851</td>\n",
       "      <td>34027</td>\n",
       "      <td>Oklahoma City, OK</td>\n",
       "      <td>West Palm Beach/Palm Beach, FL</td>\n",
       "      <td>1197</td>\n",
       "      <td>10.87</td>\n",
       "      <td>242.51</td>\n",
       "      <td>DL</td>\n",
       "      <td>Delta Air Lines Inc.</td>\n",
       "      <td>0.51</td>\n",
       "      <td>235.98</td>\n",
       "      <td>DL</td>\n",
       "      <td>Delta Air Lines Inc.</td>\n",
       "      <td>0.51</td>\n",
       "      <td>235.98</td>\n",
       "      <td>0</td>\n",
       "      <td>Oklahoma City, OK\\n(35.468494, -97.521264)</td>\n",
       "      <td>West Palm Beach/Palm Beach, FL\\n(33.90976, -98...</td>\n",
       "    </tr>\n",
       "    <tr>\n",
       "      <th>1</th>\n",
       "      <td>2012</td>\n",
       "      <td>2</td>\n",
       "      <td>31454</td>\n",
       "      <td>30476</td>\n",
       "      <td>Orlando, FL</td>\n",
       "      <td>Shreveport, LA</td>\n",
       "      <td>796</td>\n",
       "      <td>40.10</td>\n",
       "      <td>271.03</td>\n",
       "      <td>DL</td>\n",
       "      <td>Delta Air Lines Inc.</td>\n",
       "      <td>0.64</td>\n",
       "      <td>252.43</td>\n",
       "      <td>DL</td>\n",
       "      <td>Delta Air Lines Inc.</td>\n",
       "      <td>0.64</td>\n",
       "      <td>252.43</td>\n",
       "      <td>0</td>\n",
       "      <td>Orlando, FL\\n(28.538331, -81.378879)</td>\n",
       "      <td>Shreveport, LA\\n(32.51424, -93.747757)</td>\n",
       "    </tr>\n",
       "    <tr>\n",
       "      <th>2</th>\n",
       "      <td>2013</td>\n",
       "      <td>3</td>\n",
       "      <td>31267</td>\n",
       "      <td>32448</td>\n",
       "      <td>Dayton, OH</td>\n",
       "      <td>Jackson/Vicksburg, MS</td>\n",
       "      <td>617</td>\n",
       "      <td>12.06</td>\n",
       "      <td>270.00</td>\n",
       "      <td>DL</td>\n",
       "      <td>Delta Air Lines Inc.</td>\n",
       "      <td>0.64</td>\n",
       "      <td>267.98</td>\n",
       "      <td>DL</td>\n",
       "      <td>Delta Air Lines Inc.</td>\n",
       "      <td>0.64</td>\n",
       "      <td>267.98</td>\n",
       "      <td>0</td>\n",
       "      <td>Dayton, OH\\n(39.760982, -84.192203)</td>\n",
       "      <td>Jackson/Vicksburg, MS\\n(30.325968, -81.65676)</td>\n",
       "    </tr>\n",
       "    <tr>\n",
       "      <th>3</th>\n",
       "      <td>1999</td>\n",
       "      <td>2</td>\n",
       "      <td>33360</td>\n",
       "      <td>30852</td>\n",
       "      <td>Melbourne, FL</td>\n",
       "      <td>Washington, DC (Metropolitan Area)</td>\n",
       "      <td>796</td>\n",
       "      <td>90.54</td>\n",
       "      <td>180.30</td>\n",
       "      <td>DL</td>\n",
       "      <td>Delta Air Lines Inc.</td>\n",
       "      <td>0.96</td>\n",
       "      <td>177.83</td>\n",
       "      <td>DL</td>\n",
       "      <td>Delta Air Lines Inc.</td>\n",
       "      <td>0.96</td>\n",
       "      <td>177.83</td>\n",
       "      <td>0</td>\n",
       "      <td>Melbourne, FL\\n(28.079931, -80.603516)</td>\n",
       "      <td>Washington, DC (Metropolitan Area)\\n(38.892062...</td>\n",
       "    </tr>\n",
       "    <tr>\n",
       "      <th>4</th>\n",
       "      <td>2013</td>\n",
       "      <td>1</td>\n",
       "      <td>31871</td>\n",
       "      <td>32600</td>\n",
       "      <td>Greenville/Spartanburg, SC</td>\n",
       "      <td>Little Rock, AR</td>\n",
       "      <td>569</td>\n",
       "      <td>10.77</td>\n",
       "      <td>300.34</td>\n",
       "      <td>DL</td>\n",
       "      <td>Delta Air Lines Inc.</td>\n",
       "      <td>0.68</td>\n",
       "      <td>292.30</td>\n",
       "      <td>DL</td>\n",
       "      <td>Delta Air Lines Inc.</td>\n",
       "      <td>0.68</td>\n",
       "      <td>292.30</td>\n",
       "      <td>0</td>\n",
       "      <td>Greenville/Spartanburg, SC\\n(44.513288, -88.01...</td>\n",
       "      <td>Little Rock, AR\\n(34.748745, -92.275105)</td>\n",
       "    </tr>\n",
       "  </tbody>\n",
       "</table>\n",
       "</div>"
      ],
      "text/plain": [
       "   Year  quarter  citymarketid_1  citymarketid_2                       city1  \\\n",
       "0  2004        2           33851           34027           Oklahoma City, OK   \n",
       "1  2012        2           31454           30476                 Orlando, FL   \n",
       "2  2013        3           31267           32448                  Dayton, OH   \n",
       "3  1999        2           33360           30852               Melbourne, FL   \n",
       "4  2013        1           31871           32600  Greenville/Spartanburg, SC   \n",
       "\n",
       "                                city2  nsmiles  passengers    fare carrier_lg  \\\n",
       "0      West Palm Beach/Palm Beach, FL     1197       10.87  242.51         DL   \n",
       "1                      Shreveport, LA      796       40.10  271.03         DL   \n",
       "2               Jackson/Vicksburg, MS      617       12.06  270.00         DL   \n",
       "3  Washington, DC (Metropolitan Area)      796       90.54  180.30         DL   \n",
       "4                     Little Rock, AR      569       10.77  300.34         DL   \n",
       "\n",
       "   carrier_lg_full_name  large_ms  fare_lg carrier_low carrier_low_full_name  \\\n",
       "0  Delta Air Lines Inc.      0.51   235.98          DL  Delta Air Lines Inc.   \n",
       "1  Delta Air Lines Inc.      0.64   252.43          DL  Delta Air Lines Inc.   \n",
       "2  Delta Air Lines Inc.      0.64   267.98          DL  Delta Air Lines Inc.   \n",
       "3  Delta Air Lines Inc.      0.96   177.83          DL  Delta Air Lines Inc.   \n",
       "4  Delta Air Lines Inc.      0.68   292.30          DL  Delta Air Lines Inc.   \n",
       "\n",
       "   lf_ms  fare_low  table_1_flag  \\\n",
       "0   0.51    235.98             0   \n",
       "1   0.64    252.43             0   \n",
       "2   0.64    267.98             0   \n",
       "3   0.96    177.83             0   \n",
       "4   0.68    292.30             0   \n",
       "\n",
       "                                      Geocoded_City1  \\\n",
       "0         Oklahoma City, OK\\n(35.468494, -97.521264)   \n",
       "1               Orlando, FL\\n(28.538331, -81.378879)   \n",
       "2                Dayton, OH\\n(39.760982, -84.192203)   \n",
       "3             Melbourne, FL\\n(28.079931, -80.603516)   \n",
       "4  Greenville/Spartanburg, SC\\n(44.513288, -88.01...   \n",
       "\n",
       "                                      Geocoded_City2  \n",
       "0  West Palm Beach/Palm Beach, FL\\n(33.90976, -98...  \n",
       "1             Shreveport, LA\\n(32.51424, -93.747757)  \n",
       "2      Jackson/Vicksburg, MS\\n(30.325968, -81.65676)  \n",
       "3  Washington, DC (Metropolitan Area)\\n(38.892062...  \n",
       "4           Little Rock, AR\\n(34.748745, -92.275105)  "
      ]
     },
     "execution_count": 5,
     "metadata": {},
     "output_type": "execute_result"
    }
   ],
   "source": [
    "data = pandas.read_csv(\"final_dataset.csv\")\n",
    "\n",
    "data.head()"
   ]
  },
  {
   "cell_type": "code",
   "execution_count": null,
   "metadata": {},
   "outputs": [],
   "source": []
  },
  {
   "cell_type": "code",
   "execution_count": null,
   "metadata": {},
   "outputs": [],
   "source": []
  },
  {
   "cell_type": "markdown",
   "metadata": {},
   "source": [
    "- Let's:\n",
    "    - create a subset that has Pittsburgh, PA as an origin (`city1`) or destination (`city2`).\n",
    "    - Make a histogram (distplot) for the average fares.\n",
    "    - Find which airline carrier has the most low fares (`carrier_low` and `fare_low`) into and out of Pittsburgh."
   ]
  },
  {
   "cell_type": "code",
   "execution_count": null,
   "metadata": {},
   "outputs": [],
   "source": []
  },
  {
   "cell_type": "code",
   "execution_count": null,
   "metadata": {},
   "outputs": [],
   "source": []
  },
  {
   "cell_type": "markdown",
   "metadata": {},
   "source": [
    "- Let's\n",
    "    - Create the same Pittsburgh, PA dataset as above.\n",
    "    - Calculate the normalized fare (see above).\n",
    "    - Check if prices into and out of Pittsburgh have been changing over time.\n",
    "    - Fit a linear model to this evolution.\n",
    "    - Determine average price for a ticket into or out of Pittsburgh in 2025."
   ]
  },
  {
   "cell_type": "code",
   "execution_count": null,
   "metadata": {},
   "outputs": [],
   "source": []
  },
  {
   "cell_type": "code",
   "execution_count": null,
   "metadata": {},
   "outputs": [],
   "source": []
  },
  {
   "cell_type": "markdown",
   "metadata": {},
   "source": [
    "- Let's:\n",
    "    - find instances where the carrier with the largest marketshare (`carrier_lg`) is not the same as the carrier with the lowest fare (`carrier_low`) and the instances where it is. Do this by creating a new column, whose value is either 1 for the former case or 0 for the latter case.\n",
    "    - See how this number evolves over time, i.e. plot it.\n",
    "    - Optional: Fit a model to this evolution."
   ]
  },
  {
   "cell_type": "code",
   "execution_count": null,
   "metadata": {},
   "outputs": [],
   "source": []
  },
  {
   "cell_type": "code",
   "execution_count": null,
   "metadata": {},
   "outputs": [],
   "source": []
  },
  {
   "cell_type": "code",
   "execution_count": null,
   "metadata": {},
   "outputs": [],
   "source": []
  },
  {
   "cell_type": "code",
   "execution_count": null,
   "metadata": {},
   "outputs": [],
   "source": []
  }
 ],
 "metadata": {
  "kernelspec": {
   "display_name": "Python 3",
   "language": "python",
   "name": "python3"
  },
  "language_info": {
   "codemirror_mode": {
    "name": "ipython",
    "version": 3
   },
   "file_extension": ".py",
   "mimetype": "text/x-python",
   "name": "python",
   "nbconvert_exporter": "python",
   "pygments_lexer": "ipython3",
   "version": "3.5.2"
  }
 },
 "nbformat": 4,
 "nbformat_minor": 2
}
